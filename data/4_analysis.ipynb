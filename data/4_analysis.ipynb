{
 "cells": [
  {
   "cell_type": "markdown",
   "metadata": {},
   "source": [
    "# Project Title: Price model for airbnb listings in Geneva"
   ]
  },
  {
   "cell_type": "markdown",
   "metadata": {},
   "source": [
    "## ANOVA and regressions"
   ]
  },
  {
   "cell_type": "markdown",
   "metadata": {},
   "source": [
    "### Libraries and settings"
   ]
  },
  {
   "cell_type": "code",
   "execution_count": 2,
   "metadata": {},
   "outputs": [
    {
     "name": "stdout",
     "output_type": "stream",
     "text": [
      "/workspaces/project_arm_airbnb/data\n"
     ]
    }
   ],
   "source": [
    "# Libraries\n",
    "import os\n",
    "import pandas as pd\n",
    "import matplotlib.pyplot as plt\n",
    "import seaborn as sns\n",
    "import numpy as np\n",
    "from scipy import stats\n",
    "\n",
    "# Style settings for plt\n",
    "plt.style.use('dark_background')\n",
    "\n",
    "# Ignore warnings\n",
    "import warnings\n",
    "warnings.filterwarnings(\"ignore\")\n",
    "\n",
    "# Show current working directory\n",
    "print(os.getcwd())"
   ]
  },
  {
   "cell_type": "markdown",
   "metadata": {},
   "source": [
    "### Import data from csv"
   ]
  },
  {
   "cell_type": "code",
   "execution_count": 3,
   "metadata": {},
   "outputs": [
    {
     "name": "stdout",
     "output_type": "stream",
     "text": [
      "(1813, 20)\n"
     ]
    },
    {
     "data": {
      "text/html": [
       "<div>\n",
       "<style scoped>\n",
       "    .dataframe tbody tr th:only-of-type {\n",
       "        vertical-align: middle;\n",
       "    }\n",
       "\n",
       "    .dataframe tbody tr th {\n",
       "        vertical-align: top;\n",
       "    }\n",
       "\n",
       "    .dataframe thead th {\n",
       "        text-align: right;\n",
       "    }\n",
       "</style>\n",
       "<table border=\"1\" class=\"dataframe\">\n",
       "  <thead>\n",
       "    <tr style=\"text-align: right;\">\n",
       "      <th></th>\n",
       "      <th>id</th>\n",
       "      <th>neighbourhood_cleansed</th>\n",
       "      <th>lat</th>\n",
       "      <th>lon</th>\n",
       "      <th>property_type</th>\n",
       "      <th>room_type</th>\n",
       "      <th>price</th>\n",
       "      <th>accommodates</th>\n",
       "      <th>bathrooms</th>\n",
       "      <th>amenities</th>\n",
       "      <th>review_scores_rating</th>\n",
       "      <th>review_scores_location</th>\n",
       "      <th>instant_bookable</th>\n",
       "      <th>calculated_host_listings_count</th>\n",
       "      <th>lake_access</th>\n",
       "      <th>num_amenities</th>\n",
       "      <th>dist_ta</th>\n",
       "      <th>dist_pb</th>\n",
       "      <th>num_ta</th>\n",
       "      <th>num_stops</th>\n",
       "    </tr>\n",
       "  </thead>\n",
       "  <tbody>\n",
       "    <tr>\n",
       "      <th>0</th>\n",
       "      <td>42515</td>\n",
       "      <td>Commune de Genève</td>\n",
       "      <td>46.20140</td>\n",
       "      <td>6.15507</td>\n",
       "      <td>Private room in apartment</td>\n",
       "      <td>Private room</td>\n",
       "      <td>72.0</td>\n",
       "      <td>1</td>\n",
       "      <td>1.5</td>\n",
       "      <td>[\"Cable TV\", \"Dishes and silverware\", \"Washer\"...</td>\n",
       "      <td>4.69</td>\n",
       "      <td>4.79</td>\n",
       "      <td>0</td>\n",
       "      <td>1</td>\n",
       "      <td>0</td>\n",
       "      <td>22</td>\n",
       "      <td>409.552941</td>\n",
       "      <td>120.893645</td>\n",
       "      <td>4</td>\n",
       "      <td>3</td>\n",
       "    </tr>\n",
       "    <tr>\n",
       "      <th>1</th>\n",
       "      <td>44959</td>\n",
       "      <td>Commune de Genève</td>\n",
       "      <td>46.19704</td>\n",
       "      <td>6.16076</td>\n",
       "      <td>Private room in apartment</td>\n",
       "      <td>Private room</td>\n",
       "      <td>68.0</td>\n",
       "      <td>1</td>\n",
       "      <td>1.5</td>\n",
       "      <td>[\"Extra pillows and blankets\", \"Cable TV\", \"Po...</td>\n",
       "      <td>4.87</td>\n",
       "      <td>4.72</td>\n",
       "      <td>0</td>\n",
       "      <td>1</td>\n",
       "      <td>0</td>\n",
       "      <td>51</td>\n",
       "      <td>375.547668</td>\n",
       "      <td>465.095061</td>\n",
       "      <td>1</td>\n",
       "      <td>0</td>\n",
       "    </tr>\n",
       "    <tr>\n",
       "      <th>2</th>\n",
       "      <td>194110</td>\n",
       "      <td>Commune de Genève</td>\n",
       "      <td>46.20420</td>\n",
       "      <td>6.16067</td>\n",
       "      <td>Entire apartment</td>\n",
       "      <td>Entire home/apt</td>\n",
       "      <td>135.0</td>\n",
       "      <td>4</td>\n",
       "      <td>1.0</td>\n",
       "      <td>[\"Extra pillows and blankets\", \"Cable TV\", \"Di...</td>\n",
       "      <td>4.50</td>\n",
       "      <td>4.85</td>\n",
       "      <td>0</td>\n",
       "      <td>1</td>\n",
       "      <td>0</td>\n",
       "      <td>26</td>\n",
       "      <td>564.152315</td>\n",
       "      <td>460.109880</td>\n",
       "      <td>0</td>\n",
       "      <td>0</td>\n",
       "    </tr>\n",
       "    <tr>\n",
       "      <th>3</th>\n",
       "      <td>276025</td>\n",
       "      <td>Other</td>\n",
       "      <td>46.27944</td>\n",
       "      <td>6.16724</td>\n",
       "      <td>Entire apartment</td>\n",
       "      <td>Entire home/apt</td>\n",
       "      <td>65.0</td>\n",
       "      <td>5</td>\n",
       "      <td>1.0</td>\n",
       "      <td>[\"Extra pillows and blankets\", \"Portable fans\"...</td>\n",
       "      <td>4.62</td>\n",
       "      <td>4.75</td>\n",
       "      <td>1</td>\n",
       "      <td>1</td>\n",
       "      <td>1</td>\n",
       "      <td>48</td>\n",
       "      <td>6694.037169</td>\n",
       "      <td>162.973109</td>\n",
       "      <td>0</td>\n",
       "      <td>1</td>\n",
       "    </tr>\n",
       "    <tr>\n",
       "      <th>4</th>\n",
       "      <td>325986</td>\n",
       "      <td>Commune de Genève</td>\n",
       "      <td>46.21428</td>\n",
       "      <td>6.14610</td>\n",
       "      <td>Entire apartment</td>\n",
       "      <td>Entire home/apt</td>\n",
       "      <td>150.0</td>\n",
       "      <td>2</td>\n",
       "      <td>1.5</td>\n",
       "      <td>[\"Dishes and silverware\", \"Washer\", \"TV\", \"Smo...</td>\n",
       "      <td>4.84</td>\n",
       "      <td>4.76</td>\n",
       "      <td>0</td>\n",
       "      <td>1</td>\n",
       "      <td>1</td>\n",
       "      <td>26</td>\n",
       "      <td>795.419536</td>\n",
       "      <td>127.984620</td>\n",
       "      <td>0</td>\n",
       "      <td>2</td>\n",
       "    </tr>\n",
       "  </tbody>\n",
       "</table>\n",
       "</div>"
      ],
      "text/plain": [
       "       id neighbourhood_cleansed       lat      lon  \\\n",
       "0   42515      Commune de Genève  46.20140  6.15507   \n",
       "1   44959      Commune de Genève  46.19704  6.16076   \n",
       "2  194110      Commune de Genève  46.20420  6.16067   \n",
       "3  276025                  Other  46.27944  6.16724   \n",
       "4  325986      Commune de Genève  46.21428  6.14610   \n",
       "\n",
       "               property_type        room_type  price  accommodates  bathrooms  \\\n",
       "0  Private room in apartment     Private room   72.0             1        1.5   \n",
       "1  Private room in apartment     Private room   68.0             1        1.5   \n",
       "2           Entire apartment  Entire home/apt  135.0             4        1.0   \n",
       "3           Entire apartment  Entire home/apt   65.0             5        1.0   \n",
       "4           Entire apartment  Entire home/apt  150.0             2        1.5   \n",
       "\n",
       "                                           amenities  review_scores_rating  \\\n",
       "0  [\"Cable TV\", \"Dishes and silverware\", \"Washer\"...                  4.69   \n",
       "1  [\"Extra pillows and blankets\", \"Cable TV\", \"Po...                  4.87   \n",
       "2  [\"Extra pillows and blankets\", \"Cable TV\", \"Di...                  4.50   \n",
       "3  [\"Extra pillows and blankets\", \"Portable fans\"...                  4.62   \n",
       "4  [\"Dishes and silverware\", \"Washer\", \"TV\", \"Smo...                  4.84   \n",
       "\n",
       "   review_scores_location  instant_bookable  calculated_host_listings_count  \\\n",
       "0                    4.79                 0                               1   \n",
       "1                    4.72                 0                               1   \n",
       "2                    4.85                 0                               1   \n",
       "3                    4.75                 1                               1   \n",
       "4                    4.76                 0                               1   \n",
       "\n",
       "   lake_access  num_amenities      dist_ta     dist_pb  num_ta  num_stops  \n",
       "0            0             22   409.552941  120.893645       4          3  \n",
       "1            0             51   375.547668  465.095061       1          0  \n",
       "2            0             26   564.152315  460.109880       0          0  \n",
       "3            1             48  6694.037169  162.973109       0          1  \n",
       "4            1             26   795.419536  127.984620       0          2  "
      ]
     },
     "execution_count": 3,
     "metadata": {},
     "output_type": "execute_result"
    }
   ],
   "source": [
    "# Import data from csv file 'listings_with_distances.csv'\n",
    "df = pd.read_csv('analysis.csv')\n",
    "print(df.shape)\n",
    "df.head()"
   ]
  },
  {
   "cell_type": "markdown",
   "metadata": {},
   "source": [
    "### Create grouped box plot"
   ]
  },
  {
   "cell_type": "code",
   "execution_count": 4,
   "metadata": {},
   "outputs": [
    {
     "data": {
      "image/png": "[encoded data removed]",
      "text/plain": [
       "<Figure size 800x200 with 1 Axes>"
      ]
     },
     "metadata": {},
     "output_type": "display_data"
    }
   ],
   "source": [
    "# Plot boxplot with price and room_type\n",
    "plt.figure(figsize=(8, 2))\n",
    "sns.boxplot(x='price', y='room_type', palette= ['red', 'orange'], data=df, orient='h')\n",
    "plt.title('Price vs Room Type')\n",
    "plt.show()\n"
   ]
  },
  {
   "cell_type": "markdown",
   "metadata": {},
   "source": [
    "### Unpaired two-sample t-test"
   ]
  },
  {
   "cell_type": "code",
   "execution_count": 5,
   "metadata": {},
   "outputs": [
    {
     "name": "stdout",
     "output_type": "stream",
     "text": [
      "Test-statistic: 23.41067 p-value 0.0\n"
     ]
    }
   ],
   "source": [
    "# create subsets for each room type\n",
    "entire_home = df[df['room_type'] == 'Entire home/apt']\n",
    "private_room = df[df['room_type'] == 'Private room']\n",
    "\n",
    "# create t-test\n",
    "t_test = stats.ttest_ind(entire_home['price'], private_room['price'])\n",
    "print('Test-statistic:', t_test[0].round(5), 'p-value',  t_test[1].round(5))"
   ]
  },
  {
   "cell_type": "markdown",
   "metadata": {},
   "source": [
    "<p> Because the p-value is lower than 0.05, the null hypothesis can be rejected, i.e. there is evidence that the prices differ between the room types of an 'Entire home/apt' and 'private room'. Hence, there is a statistically significant (5% significance level) difference between prices of the two room types. Based on the boxplot Price vs Room Type we can also infer that 'Entire home/apt' are more expensive than 'private room'. </p>"
   ]
  },
  {
   "cell_type": "markdown",
   "metadata": {},
   "source": [
    "## Analysis of Variance (ANOVA)"
   ]
  },
  {
   "cell_type": "code",
   "execution_count": 6,
   "metadata": {},
   "outputs": [
    {
     "name": "stdout",
     "output_type": "stream",
     "text": [
      "F-value: 548.06 p-value 0.0\n"
     ]
    }
   ],
   "source": [
    "# create ANOVA based on the subsets entire_home and private_room\n",
    "fvalue, pvalue = stats.f_oneway(entire_home['price'],\n",
    "                                private_room['price'])\n",
    "\n",
    "# Print results\n",
    "print('F-value:', fvalue.round(3), 'p-value', pvalue.round(4))\n"
   ]
  },
  {
   "cell_type": "markdown",
   "metadata": {},
   "source": [
    "<p> Because the p-value is lower than 0.05, the null hypothesis can be rejected, i.e. there is evidence that the prices of 'Entire home/apt' and 'private room'differ.</p>"
   ]
  },
  {
   "cell_type": "code",
   "execution_count": 7,
   "metadata": {},
   "outputs": [
    {
     "name": "stdout",
     "output_type": "stream",
     "text": [
      "['Commune de Genève' 'Other' 'Carouge' 'Grand-Saconnex' 'Lancy' 'Vernier']\n",
      "F-value: 9.371 p-value 0.0\n"
     ]
    }
   ],
   "source": [
    "# create a subset of prices for each neighbourhood in the variable 'neighbourhood_cleansed'\n",
    "neighbourhoods = df['neighbourhood_cleansed'].unique()\n",
    "print(neighbourhoods)\n",
    "\n",
    "# Create subsets for each specific neighbourhood\n",
    "cdg = df.loc[df['neighbourhood_cleansed'] == 'Commune de Genève']\n",
    "car = df.loc[df['neighbourhood_cleansed'] == 'Carouge']\n",
    "gs = df.loc[df['neighbourhood_cleansed'] == 'Grand-Saconnex']\n",
    "lan = df.loc[df['neighbourhood_cleansed'] == 'Lancy']\n",
    "ver = df.loc[df['neighbourhood_cleansed'] == 'Vernier']\n",
    "\n",
    "# create ANOVA based on the subsets cdg, car, gs, lan and ver\n",
    "fvalue, pvalue = stats.f_oneway(cdg['price'],\n",
    "                                car['price'],\n",
    "                                gs['price'],\n",
    "                                lan['price'],\n",
    "                                ver['price'])\n",
    "# Print results\n",
    "print('F-value:', fvalue.round(3), 'p-value', pvalue.round(4))"
   ]
  },
  {
   "cell_type": "markdown",
   "metadata": {},
   "source": [
    "<p> Because the p-value is lower than 0.05, the null hypothesis can be rejected, i.e. there is evidence that the prices in each specific neighbourhood is different. A further analysis based on the room_types per neighbourhood is difficult due to the limited amount of listings. The number of listings decrease in this case to 15 as shown in the pivot table in '3_EDA'.</p>"
   ]
  },
  {
   "cell_type": "markdown",
   "metadata": {},
   "source": [
    "### Additional analysis based on ANOVA of neighbourhoods"
   ]
  },
  {
   "cell_type": "code",
   "execution_count": 8,
   "metadata": {},
   "outputs": [
    {
     "data": {
      "image/png": "[encoded data removed]",
      "text/plain": [
       "<Figure size 1000x600 with 1 Axes>"
      ]
     },
     "metadata": {},
     "output_type": "display_data"
    }
   ],
   "source": [
    "# create boxplot for the neighbourhoods and exclude the neighourhood 'others'\n",
    "plt.figure(figsize=(10, 6))\n",
    "sns.boxplot(x='price', y='neighbourhood_cleansed', data=df, palette='YlOrBr')\n",
    "plt.title('Price vs Neighbourhood')\n",
    "plt.show()"
   ]
  },
  {
   "cell_type": "markdown",
   "metadata": {},
   "source": [
    "## Multiple linear regression with two explanatory variables"
   ]
  },
  {
   "cell_type": "markdown",
   "metadata": {},
   "source": [
    "### Libraries and settings"
   ]
  },
  {
   "cell_type": "code",
   "execution_count": 9,
   "metadata": {},
   "outputs": [],
   "source": [
    "# Additional libraries\n",
    "import scipy.stats as stats\n",
    "import statsmodels.api as sm\n",
    "from sklearn import linear_model\n",
    "from sklearn.model_selection import train_test_split"
   ]
  },
  {
   "cell_type": "markdown",
   "metadata": {},
   "source": [
    "### Create train and test samples (train = 80%, test = 20% of the data)"
   ]
  },
  {
   "cell_type": "code",
   "execution_count": 10,
   "metadata": {},
   "outputs": [
    {
     "name": "stdout",
     "output_type": "stream",
     "text": [
      "(1813, 20)\n"
     ]
    },
    {
     "data": {
      "text/html": [
       "<div>\n",
       "<style scoped>\n",
       "    .dataframe tbody tr th:only-of-type {\n",
       "        vertical-align: middle;\n",
       "    }\n",
       "\n",
       "    .dataframe tbody tr th {\n",
       "        vertical-align: top;\n",
       "    }\n",
       "\n",
       "    .dataframe thead th {\n",
       "        text-align: right;\n",
       "    }\n",
       "</style>\n",
       "<table border=\"1\" class=\"dataframe\">\n",
       "  <thead>\n",
       "    <tr style=\"text-align: right;\">\n",
       "      <th></th>\n",
       "      <th>id</th>\n",
       "      <th>neighbourhood_cleansed</th>\n",
       "      <th>lat</th>\n",
       "      <th>lon</th>\n",
       "      <th>property_type</th>\n",
       "      <th>room_type</th>\n",
       "      <th>price</th>\n",
       "      <th>accommodates</th>\n",
       "      <th>bathrooms</th>\n",
       "      <th>amenities</th>\n",
       "      <th>review_scores_rating</th>\n",
       "      <th>review_scores_location</th>\n",
       "      <th>instant_bookable</th>\n",
       "      <th>calculated_host_listings_count</th>\n",
       "      <th>lake_access</th>\n",
       "      <th>num_amenities</th>\n",
       "      <th>dist_ta</th>\n",
       "      <th>dist_pb</th>\n",
       "      <th>num_ta</th>\n",
       "      <th>num_stops</th>\n",
       "    </tr>\n",
       "  </thead>\n",
       "  <tbody>\n",
       "    <tr>\n",
       "      <th>0</th>\n",
       "      <td>42515</td>\n",
       "      <td>Commune de Genève</td>\n",
       "      <td>46.20140</td>\n",
       "      <td>6.15507</td>\n",
       "      <td>Private room in apartment</td>\n",
       "      <td>Private room</td>\n",
       "      <td>72.0</td>\n",
       "      <td>1</td>\n",
       "      <td>1.5</td>\n",
       "      <td>[\"Cable TV\", \"Dishes and silverware\", \"Washer\"...</td>\n",
       "      <td>4.69</td>\n",
       "      <td>4.79</td>\n",
       "      <td>0</td>\n",
       "      <td>1</td>\n",
       "      <td>0</td>\n",
       "      <td>22</td>\n",
       "      <td>409.552941</td>\n",
       "      <td>120.893645</td>\n",
       "      <td>4</td>\n",
       "      <td>3</td>\n",
       "    </tr>\n",
       "    <tr>\n",
       "      <th>1</th>\n",
       "      <td>44959</td>\n",
       "      <td>Commune de Genève</td>\n",
       "      <td>46.19704</td>\n",
       "      <td>6.16076</td>\n",
       "      <td>Private room in apartment</td>\n",
       "      <td>Private room</td>\n",
       "      <td>68.0</td>\n",
       "      <td>1</td>\n",
       "      <td>1.5</td>\n",
       "      <td>[\"Extra pillows and blankets\", \"Cable TV\", \"Po...</td>\n",
       "      <td>4.87</td>\n",
       "      <td>4.72</td>\n",
       "      <td>0</td>\n",
       "      <td>1</td>\n",
       "      <td>0</td>\n",
       "      <td>51</td>\n",
       "      <td>375.547668</td>\n",
       "      <td>465.095061</td>\n",
       "      <td>1</td>\n",
       "      <td>0</td>\n",
       "    </tr>\n",
       "    <tr>\n",
       "      <th>2</th>\n",
       "      <td>194110</td>\n",
       "      <td>Commune de Genève</td>\n",
       "      <td>46.20420</td>\n",
       "      <td>6.16067</td>\n",
       "      <td>Entire apartment</td>\n",
       "      <td>Entire home/apt</td>\n",
       "      <td>135.0</td>\n",
       "      <td>4</td>\n",
       "      <td>1.0</td>\n",
       "      <td>[\"Extra pillows and blankets\", \"Cable TV\", \"Di...</td>\n",
       "      <td>4.50</td>\n",
       "      <td>4.85</td>\n",
       "      <td>0</td>\n",
       "      <td>1</td>\n",
       "      <td>0</td>\n",
       "      <td>26</td>\n",
       "      <td>564.152315</td>\n",
       "      <td>460.109880</td>\n",
       "      <td>0</td>\n",
       "      <td>0</td>\n",
       "    </tr>\n",
       "    <tr>\n",
       "      <th>3</th>\n",
       "      <td>276025</td>\n",
       "      <td>Other</td>\n",
       "      <td>46.27944</td>\n",
       "      <td>6.16724</td>\n",
       "      <td>Entire apartment</td>\n",
       "      <td>Entire home/apt</td>\n",
       "      <td>65.0</td>\n",
       "      <td>5</td>\n",
       "      <td>1.0</td>\n",
       "      <td>[\"Extra pillows and blankets\", \"Portable fans\"...</td>\n",
       "      <td>4.62</td>\n",
       "      <td>4.75</td>\n",
       "      <td>1</td>\n",
       "      <td>1</td>\n",
       "      <td>1</td>\n",
       "      <td>48</td>\n",
       "      <td>6694.037169</td>\n",
       "      <td>162.973109</td>\n",
       "      <td>0</td>\n",
       "      <td>1</td>\n",
       "    </tr>\n",
       "    <tr>\n",
       "      <th>4</th>\n",
       "      <td>325986</td>\n",
       "      <td>Commune de Genève</td>\n",
       "      <td>46.21428</td>\n",
       "      <td>6.14610</td>\n",
       "      <td>Entire apartment</td>\n",
       "      <td>Entire home/apt</td>\n",
       "      <td>150.0</td>\n",
       "      <td>2</td>\n",
       "      <td>1.5</td>\n",
       "      <td>[\"Dishes and silverware\", \"Washer\", \"TV\", \"Smo...</td>\n",
       "      <td>4.84</td>\n",
       "      <td>4.76</td>\n",
       "      <td>0</td>\n",
       "      <td>1</td>\n",
       "      <td>1</td>\n",
       "      <td>26</td>\n",
       "      <td>795.419536</td>\n",
       "      <td>127.984620</td>\n",
       "      <td>0</td>\n",
       "      <td>2</td>\n",
       "    </tr>\n",
       "  </tbody>\n",
       "</table>\n",
       "</div>"
      ],
      "text/plain": [
       "       id neighbourhood_cleansed       lat      lon  \\\n",
       "0   42515      Commune de Genève  46.20140  6.15507   \n",
       "1   44959      Commune de Genève  46.19704  6.16076   \n",
       "2  194110      Commune de Genève  46.20420  6.16067   \n",
       "3  276025                  Other  46.27944  6.16724   \n",
       "4  325986      Commune de Genève  46.21428  6.14610   \n",
       "\n",
       "               property_type        room_type  price  accommodates  bathrooms  \\\n",
       "0  Private room in apartment     Private room   72.0             1        1.5   \n",
       "1  Private room in apartment     Private room   68.0             1        1.5   \n",
       "2           Entire apartment  Entire home/apt  135.0             4        1.0   \n",
       "3           Entire apartment  Entire home/apt   65.0             5        1.0   \n",
       "4           Entire apartment  Entire home/apt  150.0             2        1.5   \n",
       "\n",
       "                                           amenities  review_scores_rating  \\\n",
       "0  [\"Cable TV\", \"Dishes and silverware\", \"Washer\"...                  4.69   \n",
       "1  [\"Extra pillows and blankets\", \"Cable TV\", \"Po...                  4.87   \n",
       "2  [\"Extra pillows and blankets\", \"Cable TV\", \"Di...                  4.50   \n",
       "3  [\"Extra pillows and blankets\", \"Portable fans\"...                  4.62   \n",
       "4  [\"Dishes and silverware\", \"Washer\", \"TV\", \"Smo...                  4.84   \n",
       "\n",
       "   review_scores_location  instant_bookable  calculated_host_listings_count  \\\n",
       "0                    4.79                 0                               1   \n",
       "1                    4.72                 0                               1   \n",
       "2                    4.85                 0                               1   \n",
       "3                    4.75                 1                               1   \n",
       "4                    4.76                 0                               1   \n",
       "\n",
       "   lake_access  num_amenities      dist_ta     dist_pb  num_ta  num_stops  \n",
       "0            0             22   409.552941  120.893645       4          3  \n",
       "1            0             51   375.547668  465.095061       1          0  \n",
       "2            0             26   564.152315  460.109880       0          0  \n",
       "3            1             48  6694.037169  162.973109       0          1  \n",
       "4            1             26   795.419536  127.984620       0          2  "
      ]
     },
     "execution_count": 10,
     "metadata": {},
     "output_type": "execute_result"
    }
   ],
   "source": [
    "# data frame \n",
    "print(df.shape)\n",
    "df.head()"
   ]
  },
  {
   "cell_type": "code",
   "execution_count": 11,
   "metadata": {},
   "outputs": [
    {
     "name": "stdout",
     "output_type": "stream",
     "text": [
      "X_train:\n",
      "      accommodates  lake_access\n",
      "806              2            0\n",
      "1304             1            1\n",
      "864              1            0\n",
      "1747             2            0\n",
      "907              4            0 \n",
      "\n",
      "y_train:\n",
      "806      90.0\n",
      "1304     85.0\n",
      "864      85.0\n",
      "1747     37.0\n",
      "907     175.0\n",
      "Name: price, dtype: float64\n"
     ]
    }
   ],
   "source": [
    "# Create train and test samples \n",
    "X_train, X_test, y_train, y_test = train_test_split(df[['accommodates',\n",
    "                                                        'lake_access',]], \n",
    "                                                        df['price'], \n",
    "                                                        test_size=0.20, \n",
    "                                                        random_state=42)\n",
    "\n",
    "# Show X2_train\n",
    "print('X_train:')\n",
    "print(X_train.head(), '\\n')\n",
    "\n",
    "# Show y2_train\n",
    "print('y_train:')\n",
    "print(y_train.head())"
   ]
  },
  {
   "cell_type": "code",
   "execution_count": 12,
   "metadata": {},
   "outputs": [
    {
     "name": "stdout",
     "output_type": "stream",
     "text": [
      "                            OLS Regression Results                            \n",
      "==============================================================================\n",
      "Dep. Variable:                  price   R-squared:                       0.214\n",
      "Model:                            OLS   Adj. R-squared:                  0.213\n",
      "Method:                 Least Squares   F-statistic:                     197.2\n",
      "Date:                Thu, 09 Jan 2025   Prob (F-statistic):           1.83e-76\n",
      "Time:                        12:59:26   Log-Likelihood:                -7148.6\n",
      "No. Observations:                1450   AIC:                         1.430e+04\n",
      "Df Residuals:                    1447   BIC:                         1.432e+04\n",
      "Df Model:                           2                                         \n",
      "Covariance Type:            nonrobust                                         \n",
      "================================================================================\n",
      "                   coef    std err          t      P>|t|      [0.025      0.975]\n",
      "--------------------------------------------------------------------------------\n",
      "const           63.7923      1.942     32.847      0.000      59.983      67.602\n",
      "accommodates    13.5844      0.687     19.779      0.000      12.237      14.932\n",
      "lake_access      3.3544      2.389      1.404      0.161      -1.332       8.041\n",
      "==============================================================================\n",
      "Omnibus:                       93.606   Durbin-Watson:                   1.911\n",
      "Prob(Omnibus):                  0.000   Jarque-Bera (JB):              111.941\n",
      "Skew:                           0.633   Prob(JB):                     4.92e-25\n",
      "Kurtosis:                       3.499   Cond. No.                         8.18\n",
      "==============================================================================\n",
      "\n",
      "Notes:\n",
      "[1] Standard Errors assume that the covariance matrix of the errors is correctly specified.\n"
     ]
    }
   ],
   "source": [
    "# Add constant to the model\n",
    "X_train_const = sm.add_constant(X_train)\n",
    "\n",
    "# Create the multiple regression model\n",
    "olsmod = sm.OLS(y_train, X_train_const)\n",
    "olsres = olsmod.fit()\n",
    "\n",
    "# Print full model output\n",
    "print(olsres.summary())"
   ]
  },
  {
   "cell_type": "code",
   "execution_count": 13,
   "metadata": {},
   "outputs": [
    {
     "data": {
      "image/png": "[encoded data removed]",
      "text/plain": [
       "<Figure size 800x400 with 1 Axes>"
      ]
     },
     "metadata": {},
     "output_type": "display_data"
    }
   ],
   "source": [
    "# Plot histogram of residuals\n",
    "fig = plt.figure( figsize=(8,4))\n",
    "n, bins, patches = plt.hist(x=olsres.resid, \n",
    "                            bins=25, \n",
    "                            color='red',\n",
    "                            alpha=0.5\n",
    "                   )\n",
    "\n",
    "# Set labels\n",
    "plt.xlabel('residuals', fontsize=10, labelpad=10)\n",
    "plt.ylabel('frequency', fontsize=10, labelpad=10)\n",
    "plt.title('Histogram of model residuals', fontsize=12, pad=10)\n",
    "plt.grid()\n",
    "plt.show()"
   ]
  },
  {
   "cell_type": "code",
   "execution_count": 20,
   "metadata": {},
   "outputs": [
    {
     "data": {
      "image/png": "[encoded data removed]",
      "text/plain": [
       "<Figure size 640x480 with 1 Axes>"
      ]
     },
     "metadata": {},
     "output_type": "display_data"
    }
   ],
   "source": [
    "# check if residuals are normally distributed\n",
    "stats.probplot(olsres.resid, dist=\"norm\", plot=plt)\n",
    "plt.title(\"Normal Q-Q plot\")\n",
    "plt.show()"
   ]
  },
  {
   "cell_type": "code",
   "execution_count": 14,
   "metadata": {},
   "outputs": [
    {
     "name": "stdout",
     "output_type": "stream",
     "text": [
      "Observed price: 65.0, Predicted price: 91.0\n",
      "Observed price: 64.0, Predicted price: 77.4\n",
      "Observed price: 104.0, Predicted price: 91.0\n",
      "Observed price: 70.0, Predicted price: 77.4\n",
      "Observed price: 193.0, Predicted price: 91.0\n",
      "Observed price: 40.0, Predicted price: 91.0\n",
      "Observed price: 65.0, Predicted price: 91.0\n",
      "Observed price: 50.0, Predicted price: 91.0\n",
      "Observed price: 130.0, Predicted price: 77.4\n",
      "Observed price: 70.0, Predicted price: 77.4\n"
     ]
    }
   ],
   "source": [
    "# Compare predicted values with actual values\n",
    "# Add constant to X2_test\n",
    "X_test_const = sm.add_constant(X_test)\n",
    "predicted_new = olsres.predict(X_test_const)\n",
    "\n",
    "# Compare the observed prices with the predicted prices\n",
    "for i in range(0,10):\n",
    "    print(f'Observed price: {y_test.iloc[i]:.1f}, Predicted price: {predicted_new.iloc[i]:.1f}')"
   ]
  },
  {
   "cell_type": "markdown",
   "metadata": {},
   "source": [
    "## Multiple linear regression with four explanatory variables"
   ]
  },
  {
   "cell_type": "code",
   "execution_count": 15,
   "metadata": {},
   "outputs": [
    {
     "name": "stdout",
     "output_type": "stream",
     "text": [
      "X2_train:\n",
      "      accommodates  bathrooms  num_ta      dist_ta\n",
      "806              2        1.0       0  1203.581104\n",
      "1304             1        1.0       0  7391.298286\n",
      "864              1        1.0       0  1074.374245\n",
      "1747             2        6.0       0  9466.589144\n",
      "907              4        2.5       0   818.155323 \n",
      "\n",
      "y2_train:\n",
      "806      90.0\n",
      "1304     85.0\n",
      "864      85.0\n",
      "1747     37.0\n",
      "907     175.0\n",
      "Name: price, dtype: float64\n"
     ]
    }
   ],
   "source": [
    "# Create train and test samples (we name it X2_ and y_2 because we already used X_ and y_ above)\n",
    "X2_train, X2_test, y2_train, y2_test = train_test_split(df[['accommodates',\n",
    "                                                            'bathrooms', \n",
    "                                                            'num_ta',\n",
    "                                                            'dist_ta']], \n",
    "                                                        df['price'], \n",
    "                                                        test_size=0.20, \n",
    "                                                        random_state=42)\n",
    "\n",
    "# Show X2_train\n",
    "print('X2_train:')\n",
    "print(X2_train.head(), '\\n')\n",
    "\n",
    "# Show y2_train\n",
    "print('y2_train:')\n",
    "print(y2_train.head())"
   ]
  },
  {
   "cell_type": "code",
   "execution_count": 16,
   "metadata": {},
   "outputs": [
    {
     "name": "stdout",
     "output_type": "stream",
     "text": [
      "                            OLS Regression Results                            \n",
      "==============================================================================\n",
      "Dep. Variable:                  price   R-squared:                       0.250\n",
      "Model:                            OLS   Adj. R-squared:                  0.248\n",
      "Method:                 Least Squares   F-statistic:                     120.5\n",
      "Date:                Thu, 09 Jan 2025   Prob (F-statistic):           8.23e-89\n",
      "Time:                        12:59:26   Log-Likelihood:                -7114.6\n",
      "No. Observations:                1450   AIC:                         1.424e+04\n",
      "Df Residuals:                    1445   BIC:                         1.427e+04\n",
      "Df Model:                           4                                         \n",
      "Covariance Type:            nonrobust                                         \n",
      "================================================================================\n",
      "                   coef    std err          t      P>|t|      [0.025      0.975]\n",
      "--------------------------------------------------------------------------------\n",
      "const           57.4831      3.138     18.319      0.000      51.328      63.638\n",
      "accommodates    13.1664      0.688     19.129      0.000      11.816      14.517\n",
      "bathrooms        6.8201      2.470      2.762      0.006       1.976      11.664\n",
      "num_ta           2.8023      0.450      6.228      0.000       1.920       3.685\n",
      "dist_ta         -0.0024      0.001     -3.357      0.001      -0.004      -0.001\n",
      "==============================================================================\n",
      "Omnibus:                       96.209   Durbin-Watson:                   1.914\n",
      "Prob(Omnibus):                  0.000   Jarque-Bera (JB):              117.366\n",
      "Skew:                           0.629   Prob(JB):                     3.27e-26\n",
      "Kurtosis:                       3.599   Cond. No.                     7.16e+03\n",
      "==============================================================================\n",
      "\n",
      "Notes:\n",
      "[1] Standard Errors assume that the covariance matrix of the errors is correctly specified.\n",
      "[2] The condition number is large, 7.16e+03. This might indicate that there are\n",
      "strong multicollinearity or other numerical problems.\n"
     ]
    }
   ],
   "source": [
    "# Add constant to the model\n",
    "X2_train_const = sm.add_constant(X2_train)\n",
    "\n",
    "# Create the multiple regression model\n",
    "olsmod = sm.OLS(y_train, X2_train_const)\n",
    "olsres = olsmod.fit()\n",
    "\n",
    "# Print full model output\n",
    "print(olsres.summary())"
   ]
  },
  {
   "cell_type": "code",
   "execution_count": 17,
   "metadata": {},
   "outputs": [
    {
     "data": {
      "image/png": "[encoded data removed]",
      "text/plain": [
       "<Figure size 800x400 with 1 Axes>"
      ]
     },
     "metadata": {},
     "output_type": "display_data"
    }
   ],
   "source": [
    "# Plot histogram of residuals\n",
    "fig = plt.figure( figsize=(8,4))\n",
    "n, bins, patches = plt.hist(x=olsres.resid, \n",
    "                            bins=25, \n",
    "                            color='red',\n",
    "                            alpha=0.5\n",
    "                   )\n",
    "\n",
    "# Set labels\n",
    "plt.xlabel('residuals', fontsize=10, labelpad=10)\n",
    "plt.ylabel('frequency', fontsize=10, labelpad=10)\n",
    "plt.title('Histogram of model residuals', fontsize=12, pad=10)\n",
    "plt.grid()\n",
    "plt.show()"
   ]
  },
  {
   "cell_type": "code",
   "execution_count": 18,
   "metadata": {},
   "outputs": [
    {
     "data": {
      "image/png": "[encoded data removed]",
      "text/plain": [
       "<Figure size 640x480 with 1 Axes>"
      ]
     },
     "metadata": {},
     "output_type": "display_data"
    }
   ],
   "source": [
    "# check if residuals are normally distributed\n",
    "stats.probplot(olsres.resid, dist=\"norm\", plot=plt)\n",
    "plt.title(\"Normal Q-Q plot\")\n",
    "plt.show()"
   ]
  },
  {
   "cell_type": "code",
   "execution_count": 19,
   "metadata": {},
   "outputs": [
    {
     "name": "stdout",
     "output_type": "stream",
     "text": [
      "Observed price: 65.0, Predicted price: 96.1\n",
      "Observed price: 64.0, Predicted price: 74.7\n",
      "Observed price: 104.0, Predicted price: 95.5\n",
      "Observed price: 70.0, Predicted price: 73.9\n",
      "Observed price: 193.0, Predicted price: 115.2\n",
      "Observed price: 40.0, Predicted price: 86.2\n",
      "Observed price: 65.0, Predicted price: 92.3\n",
      "Observed price: 50.0, Predicted price: 88.8\n",
      "Observed price: 130.0, Predicted price: 79.1\n",
      "Observed price: 70.0, Predicted price: 74.5\n"
     ]
    }
   ],
   "source": [
    "# Add constant to X2_test\n",
    "X2_test_const = sm.add_constant(X2_test)\n",
    "predicted_new = olsres.predict(X2_test_const)\n",
    "\n",
    "# Compare the observed prices with the predicted prices\n",
    "for i in range(0,10):\n",
    "    print(f'Observed price: {y_test.iloc[i]:.1f}, Predicted price: {predicted_new.iloc[i]:.1f}')"
   ]
  },
  {
   "cell_type": "markdown",
   "metadata": {},
   "source": [
    "### Interpretation of results - tbd"
   ]
  },
  {
   "cell_type": "markdown",
   "metadata": {},
   "source": [
    "<b>R-squared (coefficient of determination):</b> The first model has a value of 0.214 and the second model of 0.25. Hence the second model can explain more of the variation - sepcificially 25% of the variation of our target variable.\n",
    "\n",
    "<b>Coefficients and p-values:</b> \n",
    "Model 1: The explanatory variable is highly significant with a p-value < 0.001 and has a positive coefficient. Hence, the number of how many people a listing can accomodates has a positive significant impact an listing prices. The binary variable lake access is not significant and thus excluded for the second model. \n",
    "\n",
    "Model 2: All variables are significant at an 5% significance level. However, the distance to tourist attractions has a coefficient of zero and hence does not influence prices strongly or nearly not at all. \n",
    "\n",
    "<b>Residuals:</b> The distribution of residuals appear to have a normal distribution, see Q-Q-plots. "
   ]
  },
  {
   "cell_type": "markdown",
   "metadata": {},
   "source": [
    "## Regression tree or random forest regression"
   ]
  },
  {
   "cell_type": "code",
   "execution_count": null,
   "metadata": {},
   "outputs": [],
   "source": []
  },
  {
   "cell_type": "markdown",
   "metadata": {},
   "source": [
    "### (5) Use of multiple linear regression, regression tree or random forest regression as the modeling method.\n",
    "### (6) Model evaluation using suitable measures of fit (e.g. r-squared, rmse).\n",
    "### (7) Correct interpretation of model results and measures of fit."
   ]
  }
 ],
 "metadata": {
  "kernelspec": {
   "display_name": "Python 3",
   "language": "python",
   "name": "python3"
  },
  "language_info": {
   "codemirror_mode": {
    "name": "ipython",
    "version": 3
   },
   "file_extension": ".py",
   "mimetype": "text/x-python",
   "name": "python",
   "nbconvert_exporter": "python",
   "pygments_lexer": "ipython3",
   "version": "3.11.10"
  }
 },
 "nbformat": 4,
 "nbformat_minor": 2
}
