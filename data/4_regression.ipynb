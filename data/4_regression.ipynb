{
 "cells": [
  {
   "cell_type": "markdown",
   "metadata": {},
   "source": [
    "### (5) Use of multiple linear regression, regression tree or random forest regression as the modeling method.\n",
    "### (6) Model evaluation using suitable measures of fit (e.g. r-squared, rmse).\n",
    "### (7) Correct interpretation of model results and measures of fit."
   ]
  },
  {
   "cell_type": "markdown",
   "metadata": {},
   "source": [
    "### EXTRA: Use of a Chi-squared test or analysis of variance (ANOVA) or correlation analysis (each test must include a p-value)."
   ]
  }
 ],
 "metadata": {
  "language_info": {
   "name": "python"
  }
 },
 "nbformat": 4,
 "nbformat_minor": 2
}
