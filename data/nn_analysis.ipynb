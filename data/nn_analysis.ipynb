{
 "cells": [
  {
   "cell_type": "markdown",
   "metadata": {},
   "source": [
    "# Nearest Neighbor Analysis"
   ]
  },
  {
   "cell_type": "markdown",
   "metadata": {},
   "source": [
    "### Libraries and settings"
   ]
  },
  {
   "cell_type": "code",
   "execution_count": 23,
   "metadata": {},
   "outputs": [],
   "source": [
    "# Libraries\n",
    "import folium\n",
    "import platform\n",
    "import pandas as pd\n",
    "import seaborn as sns\n",
    "import geopandas as gdp\n",
    "import matplotlib.pyplot as plt\n",
    "import sqlite3\n",
    "import fnmatch\n",
    "\n",
    "# Function to close a sqlite db-connection\n",
    "def check_conn(conn):\n",
    "     try:\n",
    "        conn.cursor()\n",
    "        return True\n",
    "     except Exception as ex:\n",
    "        return False\n",
    "\n",
    "# Ignore warnings\n",
    "import warnings\n",
    "warnings.filterwarnings('ignore')\n",
    "\n",
    "# Import functions to calculate nearest-neighbors\n",
    "import nn_functions as nn"
   ]
  },
  {
   "cell_type": "markdown",
   "metadata": {},
   "source": [
    "### Import data from SQLite dbs"
   ]
  },
  {
   "cell_type": "code",
   "execution_count": 25,
   "metadata": {},
   "outputs": [
    {
     "name": "stdout",
     "output_type": "stream",
     "text": [
      "       id       lat      lon        room_type  price\n",
      "0   42515  46.20140  6.15507     Private room   72.0\n",
      "1   44959  46.19704  6.16076     Private room   68.0\n",
      "2  194110  46.20420  6.16067  Entire home/apt  135.0\n",
      "3  276025  46.27944  6.16724  Entire home/apt   65.0\n",
      "4  325986  46.21428  6.14610  Entire home/apt  150.0\n",
      "           id        lat       lon                                    name  \\\n",
      "0   701851300  46.233972  6.055721  Globe de la Science et de l'Innovation   \n",
      "1   981690477  46.184291  6.139151                        Musée de Carouge   \n",
      "2   983366077  46.198282  6.108982                           Musée des EAN   \n",
      "3  1768216261  46.220829  6.152126           Musée d'histoire des sciences   \n",
      "4  2021513198  46.198828  6.137523                                   MAMCO   \n",
      "\n",
      "  category  \n",
      "0   museum  \n",
      "1   museum  \n",
      "2   museum  \n",
      "3   museum  \n",
      "4   museum  \n",
      "         lat       lon         tags.name tags.railway\n",
      "0  46.231334  6.110271   Genève-Aéroport        train\n",
      "1  46.220426  6.094808           Vernier        train\n",
      "2  46.263684  6.161146  Creux-de-Genthod        train\n",
      "3  46.279740  6.165805           Versoix        train\n",
      "4  46.222273  6.076288            Meyrin        train\n"
     ]
    }
   ],
   "source": [
    "# Import listings data from listings.db and only include columns id, latitude, longitude, room_type, and price\n",
    "conn = sqlite3.connect('listings.db')\n",
    "df_list = pd.read_sql_query(\"SELECT id, lat, lon, room_type, price FROM listings\", conn)\n",
    "print(df_list.head())\n",
    "\n",
    "# Import tourist attractions data from attractions.db\n",
    "conn = sqlite3.connect('tourist.db')\n",
    "df_ta = pd.read_sql_query(\"SELECT * FROM tourist\", conn)\n",
    "print(df_ta.head())\n",
    "\n",
    "# Import public transport data from oev.db\n",
    "conn = sqlite3.connect('oev.db')\n",
    "df_pb = pd.read_sql_query(\"SELECT * FROM oev\", conn)\n",
    "print (df_pb.head())"
   ]
  },
  {
   "cell_type": "code",
   "execution_count": 19,
   "metadata": {},
   "outputs": [
    {
     "name": "stdout",
     "output_type": "stream",
     "text": [
      "False\n"
     ]
    }
   ],
   "source": [
    "# Close db connection (if open)\n",
    "try:\n",
    "    if check_conn(conn):\n",
    "        conn.close()\n",
    "    else:\n",
    "        pass\n",
    "except:\n",
    "    pass\n",
    "\n",
    "# Status (True = open, False = closed)\n",
    "print(check_conn(conn))"
   ]
  },
  {
   "cell_type": "markdown",
   "metadata": {},
   "source": [
    "### Prepare geodataframes"
   ]
  },
  {
   "cell_type": "code",
   "execution_count": 33,
   "metadata": {},
   "outputs": [
    {
     "name": "stdout",
     "output_type": "stream",
     "text": [
      "(1827, 6)\n"
     ]
    },
    {
     "data": {
      "text/html": [
       "<div>\n",
       "<style scoped>\n",
       "    .dataframe tbody tr th:only-of-type {\n",
       "        vertical-align: middle;\n",
       "    }\n",
       "\n",
       "    .dataframe tbody tr th {\n",
       "        vertical-align: top;\n",
       "    }\n",
       "\n",
       "    .dataframe thead th {\n",
       "        text-align: right;\n",
       "    }\n",
       "</style>\n",
       "<table border=\"1\" class=\"dataframe\">\n",
       "  <thead>\n",
       "    <tr style=\"text-align: right;\">\n",
       "      <th></th>\n",
       "      <th>id</th>\n",
       "      <th>lat</th>\n",
       "      <th>lon</th>\n",
       "      <th>room_type</th>\n",
       "      <th>price</th>\n",
       "      <th>geometry</th>\n",
       "    </tr>\n",
       "  </thead>\n",
       "  <tbody>\n",
       "    <tr>\n",
       "      <th>0</th>\n",
       "      <td>42515</td>\n",
       "      <td>46.20140</td>\n",
       "      <td>6.15507</td>\n",
       "      <td>Private room</td>\n",
       "      <td>72.0</td>\n",
       "      <td>POINT (6.15507 46.2014)</td>\n",
       "    </tr>\n",
       "    <tr>\n",
       "      <th>1</th>\n",
       "      <td>44959</td>\n",
       "      <td>46.19704</td>\n",
       "      <td>6.16076</td>\n",
       "      <td>Private room</td>\n",
       "      <td>68.0</td>\n",
       "      <td>POINT (6.16076 46.19704)</td>\n",
       "    </tr>\n",
       "    <tr>\n",
       "      <th>2</th>\n",
       "      <td>194110</td>\n",
       "      <td>46.20420</td>\n",
       "      <td>6.16067</td>\n",
       "      <td>Entire home/apt</td>\n",
       "      <td>135.0</td>\n",
       "      <td>POINT (6.16067 46.2042)</td>\n",
       "    </tr>\n",
       "    <tr>\n",
       "      <th>3</th>\n",
       "      <td>276025</td>\n",
       "      <td>46.27944</td>\n",
       "      <td>6.16724</td>\n",
       "      <td>Entire home/apt</td>\n",
       "      <td>65.0</td>\n",
       "      <td>POINT (6.16724 46.27944)</td>\n",
       "    </tr>\n",
       "    <tr>\n",
       "      <th>4</th>\n",
       "      <td>325986</td>\n",
       "      <td>46.21428</td>\n",
       "      <td>6.14610</td>\n",
       "      <td>Entire home/apt</td>\n",
       "      <td>150.0</td>\n",
       "      <td>POINT (6.1461 46.21428)</td>\n",
       "    </tr>\n",
       "  </tbody>\n",
       "</table>\n",
       "</div>"
      ],
      "text/plain": [
       "       id       lat      lon        room_type  price                  geometry\n",
       "0   42515  46.20140  6.15507     Private room   72.0   POINT (6.15507 46.2014)\n",
       "1   44959  46.19704  6.16076     Private room   68.0  POINT (6.16076 46.19704)\n",
       "2  194110  46.20420  6.16067  Entire home/apt  135.0   POINT (6.16067 46.2042)\n",
       "3  276025  46.27944  6.16724  Entire home/apt   65.0  POINT (6.16724 46.27944)\n",
       "4  325986  46.21428  6.14610  Entire home/apt  150.0   POINT (6.1461 46.21428)"
      ]
     },
     "execution_count": 33,
     "metadata": {},
     "output_type": "execute_result"
    }
   ],
   "source": [
    "# Convert data frame of listings data to geodataframe\n",
    "df_list_geo = gdp.GeoDataFrame(df_list, \n",
    "                        geometry=gdp.points_from_xy(df_list['lon'], \n",
    "                                                    df_list['lat']))\n",
    "\n",
    "# Set Coordinate Reference System (CRS)\n",
    "df_list_geo.set_crs(4326, allow_override=True)\n",
    "print(df_list_geo.shape)\n",
    "df_list_geo.head()"
   ]
  },
  {
   "cell_type": "code",
   "execution_count": 32,
   "metadata": {},
   "outputs": [
    {
     "name": "stdout",
     "output_type": "stream",
     "text": [
      "(51, 6)\n"
     ]
    },
    {
     "data": {
      "text/html": [
       "<div>\n",
       "<style scoped>\n",
       "    .dataframe tbody tr th:only-of-type {\n",
       "        vertical-align: middle;\n",
       "    }\n",
       "\n",
       "    .dataframe tbody tr th {\n",
       "        vertical-align: top;\n",
       "    }\n",
       "\n",
       "    .dataframe thead th {\n",
       "        text-align: right;\n",
       "    }\n",
       "</style>\n",
       "<table border=\"1\" class=\"dataframe\">\n",
       "  <thead>\n",
       "    <tr style=\"text-align: right;\">\n",
       "      <th></th>\n",
       "      <th>id</th>\n",
       "      <th>lat</th>\n",
       "      <th>lon</th>\n",
       "      <th>name</th>\n",
       "      <th>category</th>\n",
       "      <th>geometry</th>\n",
       "    </tr>\n",
       "  </thead>\n",
       "  <tbody>\n",
       "    <tr>\n",
       "      <th>0</th>\n",
       "      <td>701851300</td>\n",
       "      <td>46.233972</td>\n",
       "      <td>6.055721</td>\n",
       "      <td>Globe de la Science et de l'Innovation</td>\n",
       "      <td>museum</td>\n",
       "      <td>POINT (6.05572 46.23397)</td>\n",
       "    </tr>\n",
       "    <tr>\n",
       "      <th>1</th>\n",
       "      <td>981690477</td>\n",
       "      <td>46.184291</td>\n",
       "      <td>6.139151</td>\n",
       "      <td>Musée de Carouge</td>\n",
       "      <td>museum</td>\n",
       "      <td>POINT (6.13915 46.18429)</td>\n",
       "    </tr>\n",
       "    <tr>\n",
       "      <th>2</th>\n",
       "      <td>983366077</td>\n",
       "      <td>46.198282</td>\n",
       "      <td>6.108982</td>\n",
       "      <td>Musée des EAN</td>\n",
       "      <td>museum</td>\n",
       "      <td>POINT (6.10898 46.19828)</td>\n",
       "    </tr>\n",
       "    <tr>\n",
       "      <th>3</th>\n",
       "      <td>1768216261</td>\n",
       "      <td>46.220829</td>\n",
       "      <td>6.152126</td>\n",
       "      <td>Musée d'histoire des sciences</td>\n",
       "      <td>museum</td>\n",
       "      <td>POINT (6.15213 46.22083)</td>\n",
       "    </tr>\n",
       "    <tr>\n",
       "      <th>4</th>\n",
       "      <td>2021513198</td>\n",
       "      <td>46.198828</td>\n",
       "      <td>6.137523</td>\n",
       "      <td>MAMCO</td>\n",
       "      <td>museum</td>\n",
       "      <td>POINT (6.13752 46.19883)</td>\n",
       "    </tr>\n",
       "  </tbody>\n",
       "</table>\n",
       "</div>"
      ],
      "text/plain": [
       "           id        lat       lon                                    name  \\\n",
       "0   701851300  46.233972  6.055721  Globe de la Science et de l'Innovation   \n",
       "1   981690477  46.184291  6.139151                        Musée de Carouge   \n",
       "2   983366077  46.198282  6.108982                           Musée des EAN   \n",
       "3  1768216261  46.220829  6.152126           Musée d'histoire des sciences   \n",
       "4  2021513198  46.198828  6.137523                                   MAMCO   \n",
       "\n",
       "  category                  geometry  \n",
       "0   museum  POINT (6.05572 46.23397)  \n",
       "1   museum  POINT (6.13915 46.18429)  \n",
       "2   museum  POINT (6.10898 46.19828)  \n",
       "3   museum  POINT (6.15213 46.22083)  \n",
       "4   museum  POINT (6.13752 46.19883)  "
      ]
     },
     "execution_count": 32,
     "metadata": {},
     "output_type": "execute_result"
    }
   ],
   "source": [
    "# Convert data frame of tourist attraction data to geodataframe\n",
    "df_ta_geo = gdp.GeoDataFrame(df_ta, \n",
    "                        geometry=gdp.points_from_xy(df_ta['lon'], \n",
    "                                                    df_ta['lat']))\n",
    "\n",
    "# Set Coordinate Reference System (CRS)\n",
    "df_ta_geo.set_crs(4326, allow_override=True)\n",
    "print(df_ta_geo.shape)\n",
    "df_ta_geo.head()"
   ]
  },
  {
   "cell_type": "code",
   "execution_count": 31,
   "metadata": {},
   "outputs": [
    {
     "name": "stdout",
     "output_type": "stream",
     "text": [
      "(193, 5)\n"
     ]
    },
    {
     "data": {
      "text/html": [
       "<div>\n",
       "<style scoped>\n",
       "    .dataframe tbody tr th:only-of-type {\n",
       "        vertical-align: middle;\n",
       "    }\n",
       "\n",
       "    .dataframe tbody tr th {\n",
       "        vertical-align: top;\n",
       "    }\n",
       "\n",
       "    .dataframe thead th {\n",
       "        text-align: right;\n",
       "    }\n",
       "</style>\n",
       "<table border=\"1\" class=\"dataframe\">\n",
       "  <thead>\n",
       "    <tr style=\"text-align: right;\">\n",
       "      <th></th>\n",
       "      <th>lat</th>\n",
       "      <th>lon</th>\n",
       "      <th>tags.name</th>\n",
       "      <th>tags.railway</th>\n",
       "      <th>geometry</th>\n",
       "    </tr>\n",
       "  </thead>\n",
       "  <tbody>\n",
       "    <tr>\n",
       "      <th>0</th>\n",
       "      <td>46.231334</td>\n",
       "      <td>6.110271</td>\n",
       "      <td>Genève-Aéroport</td>\n",
       "      <td>train</td>\n",
       "      <td>POINT (6.11027 46.23133)</td>\n",
       "    </tr>\n",
       "    <tr>\n",
       "      <th>1</th>\n",
       "      <td>46.220426</td>\n",
       "      <td>6.094808</td>\n",
       "      <td>Vernier</td>\n",
       "      <td>train</td>\n",
       "      <td>POINT (6.09481 46.22043)</td>\n",
       "    </tr>\n",
       "    <tr>\n",
       "      <th>2</th>\n",
       "      <td>46.263684</td>\n",
       "      <td>6.161146</td>\n",
       "      <td>Creux-de-Genthod</td>\n",
       "      <td>train</td>\n",
       "      <td>POINT (6.16115 46.26368)</td>\n",
       "    </tr>\n",
       "    <tr>\n",
       "      <th>3</th>\n",
       "      <td>46.279740</td>\n",
       "      <td>6.165805</td>\n",
       "      <td>Versoix</td>\n",
       "      <td>train</td>\n",
       "      <td>POINT (6.16581 46.27974)</td>\n",
       "    </tr>\n",
       "    <tr>\n",
       "      <th>4</th>\n",
       "      <td>46.222273</td>\n",
       "      <td>6.076288</td>\n",
       "      <td>Meyrin</td>\n",
       "      <td>train</td>\n",
       "      <td>POINT (6.07629 46.22227)</td>\n",
       "    </tr>\n",
       "  </tbody>\n",
       "</table>\n",
       "</div>"
      ],
      "text/plain": [
       "         lat       lon         tags.name tags.railway  \\\n",
       "0  46.231334  6.110271   Genève-Aéroport        train   \n",
       "1  46.220426  6.094808           Vernier        train   \n",
       "2  46.263684  6.161146  Creux-de-Genthod        train   \n",
       "3  46.279740  6.165805           Versoix        train   \n",
       "4  46.222273  6.076288            Meyrin        train   \n",
       "\n",
       "                   geometry  \n",
       "0  POINT (6.11027 46.23133)  \n",
       "1  POINT (6.09481 46.22043)  \n",
       "2  POINT (6.16115 46.26368)  \n",
       "3  POINT (6.16581 46.27974)  \n",
       "4  POINT (6.07629 46.22227)  "
      ]
     },
     "execution_count": 31,
     "metadata": {},
     "output_type": "execute_result"
    }
   ],
   "source": [
    "# Convert data frame of public transport data to geodataframe\n",
    "df_pb_geo = gdp.GeoDataFrame(df_pb, \n",
    "                        geometry=gdp.points_from_xy(df_pb['lon'], \n",
    "                                                    df_pb['lat']))\n",
    "\n",
    "# Set Coordinate Reference System (CRS)\n",
    "df_pb_geo.set_crs(4326, allow_override=True)\n",
    "print(df_pb_geo.shape)\n",
    "df_pb_geo.head()\n"
   ]
  }
 ],
 "metadata": {
  "kernelspec": {
   "display_name": "Python 3",
   "language": "python",
   "name": "python3"
  },
  "language_info": {
   "codemirror_mode": {
    "name": "ipython",
    "version": 3
   },
   "file_extension": ".py",
   "mimetype": "text/x-python",
   "name": "python",
   "nbconvert_exporter": "python",
   "pygments_lexer": "ipython3",
   "version": "3.11.10"
  }
 },
 "nbformat": 4,
 "nbformat_minor": 2
}
