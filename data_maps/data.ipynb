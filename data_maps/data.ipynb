{
 "cells": [
  {
   "cell_type": "markdown",
   "metadata": {},
   "source": [
    "# Libraries"
   ]
  },
  {
   "cell_type": "code",
   "execution_count": 8,
   "metadata": {},
   "outputs": [
    {
     "name": "stdout",
     "output_type": "stream",
     "text": [
      "/workspaces/project_arm_airbnb/data_maps\n"
     ]
    }
   ],
   "source": [
    "# Libraries\n",
    "import requests\n",
    "import json\n",
    "import pandas as pd\n",
    "import folium\n",
    "from shapely.geometry import shape\n",
    "from shapely.ops import transform\n",
    "import geopandas as gpd\n",
    "from pyproj import CRS, Transformer\n",
    "\n",
    "# Ignore warnings\n",
    "import warnings\n",
    "warnings.filterwarnings(\"ignore\")\n",
    "\n",
    "# Show current working directory\n",
    "print(os.getcwd())"
   ]
  },
  {
   "cell_type": "markdown",
   "metadata": {},
   "source": [
    "## API request"
   ]
  },
  {
   "cell_type": "markdown",
   "metadata": {},
   "source": [
    "### Touristenattraktionen"
   ]
  },
  {
   "cell_type": "code",
   "execution_count": 15,
   "metadata": {},
   "outputs": [
    {
     "name": "stdout",
     "output_type": "stream",
     "text": [
      "Defaulting to user installation because normal site-packages is not writeable\n",
      "Collecting overpy\n",
      "  Downloading overpy-0.7-py3-none-any.whl.metadata (3.5 kB)\n",
      "Downloading overpy-0.7-py3-none-any.whl (14 kB)\n",
      "Installing collected packages: overpy\n",
      "Successfully installed overpy-0.7\n",
      "Note: you may need to restart the kernel to use updated packages.\n"
     ]
    }
   ],
   "source": [
    "pip install overpy\n"
   ]
  },
  {
   "cell_type": "code",
   "execution_count": 5,
   "metadata": {},
   "outputs": [
    {
     "name": "stdout",
     "output_type": "stream",
     "text": [
      "Map saved as geneva_tourist_map.html\n"
     ]
    },
    {
     "data": {
      "text/html": [
       "\n",
       "        <iframe\n",
       "            width=\"700\"\n",
       "            height=\"500\"\n",
       "            src=\"geneva_tourist_map.html\"\n",
       "            frameborder=\"0\"\n",
       "            allowfullscreen\n",
       "            \n",
       "        ></iframe>\n",
       "        "
      ],
      "text/plain": [
       "<IPython.lib.display.IFrame at 0x7b0a44169d90>"
      ]
     },
     "execution_count": 5,
     "metadata": {},
     "output_type": "execute_result"
    }
   ],
   "source": [
    "import overpy\n",
    "import folium\n",
    "\n",
    "# Step 1: Initialize Overpass API\n",
    "api = overpy.Overpass()\n",
    "\n",
    "# Step 2: Define the Overpass query for tourism attractions in Geneva\n",
    "query = \"\"\"\n",
    "[out:json][timeout:25];\n",
    "area[name=\"Genf\"]->.searchArea;\n",
    "(\n",
    "  node[\"tourism\"](area.searchArea);\n",
    "  way[\"tourism\"](area.searchArea);\n",
    "  relation[\"tourism\"](area.searchArea);\n",
    ");\n",
    "out center;\n",
    "\"\"\"\n",
    "\n",
    "# Step 3: Execute the query\n",
    "result = api.query(query)\n",
    "\n",
    "# Step 4: Create a base map centered on Geneva\n",
    "geneva_map = folium.Map(location=[46.2044, 6.1432], zoom_start=13)  # Geneva's coordinates\n",
    "\n",
    "# Step 5: Add nodes (points of interest) to the map\n",
    "for node in result.nodes:\n",
    "    name = node.tags.get(\"name\", \"Unknown\")\n",
    "    folium.Marker(\n",
    "        location=[node.lat, node.lon],\n",
    "        popup=f\"{name} (Node)\",\n",
    "        icon=folium.Icon(color=\"blue\", icon=\"info-sign\")\n",
    "    ).add_to(geneva_map)\n",
    "\n",
    "# Step 6: Add ways (areas/paths of interest) to the map\n",
    "for way in result.ways:\n",
    "    name = way.tags.get(\"name\", \"Unknown\")\n",
    "    if way.nodes:\n",
    "        coordinates = [(node.lat, node.lon) for node in way.nodes]\n",
    "        folium.PolyLine(\n",
    "            locations=coordinates,\n",
    "            color=\"red\",\n",
    "            weight=2,\n",
    "            popup=f\"{name} (Way)\"\n",
    "        ).add_to(geneva_map)\n",
    "\n",
    "# Step 7: Add relations (complex areas of interest) to the map\n",
    "for relation in result.relations:\n",
    "    name = relation.tags.get(\"name\", \"Unknown\")\n",
    "    if \"center\" in relation:\n",
    "        lat, lon = relation.center_lat, relation.center_lon\n",
    "        folium.Marker(\n",
    "            location=[lat, lon],\n",
    "            popup=f\"{name} (Relation)\",\n",
    "            icon=folium.Icon(color=\"green\", icon=\"star\")\n",
    "        ).add_to(geneva_map)\n",
    "\n",
    "# Step 8: Save and display the map\n",
    "geneva_map.save(\"geneva_tourist_map.html\")\n",
    "print(\"Map saved as geneva_tourist_map.html\")\n",
    "\n",
    "\n",
    "from IPython.display import IFrame\n",
    "\n",
    "def plot_map(map_file):\n",
    "    return IFrame(map_file, width=700, height=500)\n",
    "\n",
    "plot_map(\"geneva_tourist_map.html\")"
   ]
  }
 ],
 "metadata": {
  "kernelspec": {
   "display_name": "Python 3",
   "language": "python",
   "name": "python3"
  },
  "language_info": {
   "codemirror_mode": {
    "name": "ipython",
    "version": 3
   },
   "file_extension": ".py",
   "mimetype": "text/x-python",
   "name": "python",
   "nbconvert_exporter": "python",
   "pygments_lexer": "ipython3",
   "version": "3.11.10"
  }
 },
 "nbformat": 4,
 "nbformat_minor": 2
}
