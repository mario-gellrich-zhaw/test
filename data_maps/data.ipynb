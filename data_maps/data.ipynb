{
 "cells": [
  {
   "cell_type": "markdown",
   "metadata": {},
   "source": [
    "# Libraries"
   ]
  },
  {
   "cell_type": "code",
   "execution_count": 11,
   "metadata": {},
   "outputs": [
    {
     "ename": "NameError",
     "evalue": "name 'os' is not defined",
     "output_type": "error",
     "traceback": [
      "\u001b[0;31m---------------------------------------------------------------------------\u001b[0m",
      "\u001b[0;31mNameError\u001b[0m                                 Traceback (most recent call last)",
      "Cell \u001b[0;32mIn[11], line 13\u001b[0m\n\u001b[1;32m     10\u001b[0m warnings\u001b[38;5;241m.\u001b[39mfilterwarnings(\u001b[38;5;124m\"\u001b[39m\u001b[38;5;124mignore\u001b[39m\u001b[38;5;124m\"\u001b[39m)\n\u001b[1;32m     12\u001b[0m \u001b[38;5;66;03m# Show current working directory\u001b[39;00m\n\u001b[0;32m---> 13\u001b[0m \u001b[38;5;28mprint\u001b[39m(\u001b[43mos\u001b[49m\u001b[38;5;241m.\u001b[39mgetcwd())\n",
      "\u001b[0;31mNameError\u001b[0m: name 'os' is not defined"
     ]
    }
   ],
   "source": [
    "# Libraries\n",
    "import requests\n",
    "import json\n",
    "import pandas as pd\n",
    "import folium\n",
    "\n",
    "\n",
    "# Ignore warnings\n",
    "import warnings\n",
    "warnings.filterwarnings(\"ignore\")\n",
    "\n",
    "# Show current working directory\n",
    "print(os.getcwd())"
   ]
  },
  {
   "cell_type": "markdown",
   "metadata": {},
   "source": [
    "## API request"
   ]
  },
  {
   "cell_type": "markdown",
   "metadata": {},
   "source": [
    "### Touristenattraktionen"
   ]
  },
  {
   "cell_type": "code",
   "execution_count": 15,
   "metadata": {},
   "outputs": [
    {
     "name": "stdout",
     "output_type": "stream",
     "text": [
      "Defaulting to user installation because normal site-packages is not writeable\n",
      "Collecting overpy\n",
      "  Downloading overpy-0.7-py3-none-any.whl.metadata (3.5 kB)\n",
      "Downloading overpy-0.7-py3-none-any.whl (14 kB)\n",
      "Installing collected packages: overpy\n",
      "Successfully installed overpy-0.7\n",
      "Note: you may need to restart the kernel to use updated packages.\n"
     ]
    }
   ],
   "source": [
    "pip install overpy\n"
   ]
  },
  {
   "cell_type": "code",
   "execution_count": null,
   "metadata": {},
   "outputs": [
    {
     "name": "stdout",
     "output_type": "stream",
     "text": [
      "Map saved as geneva_tourist_map.html\n"
     ]
    }
   ],
   "source": [
    "import overpy\n",
    "import folium\n",
    "\n",
    "# Step 1: Initialize Overpass API\n",
    "api = overpy.Overpass()\n",
    "\n",
    "# Step 2: Define the Overpass query for tourism attractions in Geneva\n",
    "query = \"\"\"\n",
    "[out:json][timeout:25];\n",
    "area[\"ISO3166-2\"=\"CH-GE\"][admin_level=4];\n",
    "(\n",
    "  node[\"tourism\"=\"museum\"](area.searchArea);\n",
    "  way[\"tourism\"](area.searchArea);\n",
    "  relation[\"tourism\"](area.searchArea);\n",
    ");\n",
    "out center;\n",
    "\"\"\"\n",
    "\n",
    "# Step 3: Execute the query\n",
    "result = api.query(query)\n",
    "\n",
    "# Step 4: Create a base map centered on Geneva\n",
    "geneva_map = folium.Map(location=[46.2044, 6.1432], zoom_start=13)  # Geneva's coordinates\n",
    "\n",
    "# Step 5: Add nodes (points of interest) to the map\n",
    "for node in result.nodes:\n",
    "    name = node.tags.get(\"name\", \"Unknown\")\n",
    "    folium.Marker(\n",
    "        location=[node.lat, node.lon],\n",
    "        popup=f\"{name} (Node)\",\n",
    "        icon=folium.Icon(color=\"blue\", icon=\"info-sign\")\n",
    "    ).add_to(geneva_map)\n",
    "\n",
    "# Step 6: Add ways (areas/paths of interest) to the map\n",
    "for way in result.ways:\n",
    "    name = way.tags.get(\"name\", \"Unknown\")\n",
    "    if way.nodes:\n",
    "        coordinates = [(node.lat, node.lon) for node in way.nodes]\n",
    "        folium.PolyLine(\n",
    "            locations=coordinates,\n",
    "            color=\"red\",\n",
    "            weight=2,\n",
    "            popup=f\"{name} (Way)\"\n",
    "        ).add_to(geneva_map)\n",
    "\n",
    "# Step 7: Add relations (complex areas of interest) to the map\n",
    "for relation in result.relations:\n",
    "    name = relation.tags.get(\"name\", \"Unknown\")\n",
    "    if \"center\" in relation:\n",
    "        lat, lon = relation.center_lat, relation.center_lon\n",
    "        folium.Marker(\n",
    "            location=[lat, lon],\n",
    "            popup=f\"{name} (Relation)\",\n",
    "            icon=folium.Icon(color=\"green\", icon=\"star\")\n",
    "        ).add_to(geneva_map)\n",
    "\n",
    "# Step 8: Save and display the map\n",
    "geneva_map.save(\"geneva_tourist_map.html\")\n",
    "print(\"Map saved as geneva_tourist_map.html\")\n",
    "\n",
    "\n",
    "from IPython.display import IFrame\n",
    "\n"
   ]
  },
  {
   "cell_type": "code",
   "execution_count": 10,
   "metadata": {},
   "outputs": [
    {
     "data": {
      "text/html": [
       "\n",
       "        <iframe\n",
       "            width=\"800\"\n",
       "            height=\"600\"\n",
       "            src=\"geneva_tourist_map.html\"\n",
       "            frameborder=\"0\"\n",
       "            allowfullscreen\n",
       "            \n",
       "        ></iframe>\n",
       "        "
      ],
      "text/plain": [
       "<IPython.lib.display.IFrame at 0x7b0a18f077d0>"
      ]
     },
     "execution_count": 10,
     "metadata": {},
     "output_type": "execute_result"
    }
   ],
   "source": [
    "IFrame(\"geneva_tourist_map.html\", width=800, height=600)"
   ]
  }
 ],
 "metadata": {
  "kernelspec": {
   "display_name": "Python 3",
   "language": "python",
   "name": "python3"
  },
  "language_info": {
   "codemirror_mode": {
    "name": "ipython",
    "version": 3
   },
   "file_extension": ".py",
   "mimetype": "text/x-python",
   "name": "python",
   "nbconvert_exporter": "python",
   "pygments_lexer": "ipython3",
   "version": "3.11.10"
  }
 },
 "nbformat": 4,
 "nbformat_minor": 2
}
